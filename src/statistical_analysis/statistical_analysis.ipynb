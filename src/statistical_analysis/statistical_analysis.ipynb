{
 "cells": [
  {
   "cell_type": "code",
   "execution_count": 1,
   "id": "82708963",
   "metadata": {},
   "outputs": [
    {
     "ename": "ModuleNotFoundError",
     "evalue": "No module named 'pingouin'",
     "output_type": "error",
     "traceback": [
      "\u001b[0;31m---------------------------------------------------------------------------\u001b[0m",
      "\u001b[0;31mModuleNotFoundError\u001b[0m                       Traceback (most recent call last)",
      "Input \u001b[0;32mIn [1]\u001b[0m, in \u001b[0;36m<cell line: 4>\u001b[0;34m()\u001b[0m\n\u001b[1;32m      2\u001b[0m \u001b[38;5;28;01mimport\u001b[39;00m \u001b[38;5;21;01mnumpy\u001b[39;00m \u001b[38;5;28;01mas\u001b[39;00m \u001b[38;5;21;01mnp\u001b[39;00m\n\u001b[1;32m      3\u001b[0m \u001b[38;5;28;01mfrom\u001b[39;00m \u001b[38;5;21;01mscipy\u001b[39;00m\u001b[38;5;21;01m.\u001b[39;00m\u001b[38;5;21;01mstats\u001b[39;00m \u001b[38;5;28;01mimport\u001b[39;00m f_oneway, levene\n\u001b[0;32m----> 4\u001b[0m \u001b[38;5;28;01mimport\u001b[39;00m \u001b[38;5;21;01mpingouin\u001b[39;00m \u001b[38;5;28;01mas\u001b[39;00m \u001b[38;5;21;01mpg\u001b[39;00m\n\u001b[1;32m      5\u001b[0m \u001b[38;5;28;01mfrom\u001b[39;00m \u001b[38;5;21;01mstatsmodels\u001b[39;00m\u001b[38;5;21;01m.\u001b[39;00m\u001b[38;5;21;01mstats\u001b[39;00m\u001b[38;5;21;01m.\u001b[39;00m\u001b[38;5;21;01mmulticomp\u001b[39;00m \u001b[38;5;28;01mimport\u001b[39;00m pairwise_tukeyhsd\n\u001b[1;32m      7\u001b[0m \u001b[38;5;28;01mdef\u001b[39;00m \u001b[38;5;21manalyze_groups\u001b[39m(df, group_col\u001b[38;5;241m=\u001b[39m\u001b[38;5;124m'\u001b[39m\u001b[38;5;124mdiagnosis\u001b[39m\u001b[38;5;124m'\u001b[39m, alpha\u001b[38;5;241m=\u001b[39m\u001b[38;5;241m0.05\u001b[39m):\n",
      "\u001b[0;31mModuleNotFoundError\u001b[0m: No module named 'pingouin'"
     ]
    }
   ],
   "source": [
    "import pandas as pd\n",
    "import numpy as np\n",
    "from scipy.stats import f_oneway, levene\n",
    "import pingouin as pg\n",
    "from statsmodels.stats.multicomp import pairwise_tukeyhsd\n",
    "\n",
    "def analyze_groups(df, group_col='diagnosis', alpha=0.05):\n",
    "    results = []\n",
    "\n",
    "    # Get numeric columns (excluding the group column)\n",
    "    numeric_cols = df.select_dtypes(include=[np.number]).columns.tolist()\n",
    "\n",
    "    for col in numeric_cols:\n",
    "        groups = df[[group_col, col]].dropna().groupby(group_col)[col].apply(list)\n",
    "\n",
    "        if len(groups) < 2:\n",
    "            continue  # Need at least two groups to compare\n",
    "\n",
    "        # Levene's test for equal variances\n",
    "        levene_stat, levene_p = levene(*groups)\n",
    "\n",
    "        if levene_p < 0.05:\n",
    "            # Use Welch's ANOVA if variances differ\n",
    "            welch_result = pg.welch_anova(dv=col, between=group_col, data=df[[group_col, col]].dropna())\n",
    "            p_val = welch_result['p-unc'].values[0]\n",
    "            method = \"Welch's ANOVA\"\n",
    "        else:\n",
    "            # Use standard one-way ANOVA\n",
    "            f_stat, p_val = f_oneway(*groups)\n",
    "            method = \"One-way ANOVA\"\n",
    "\n",
    "        # Prepare result\n",
    "        result = {\n",
    "            'variable': col,\n",
    "            'method': method,\n",
    "            'p_value': p_val,\n",
    "            'levene_p': levene_p,\n",
    "            'significant': p_val < alpha\n",
    "        }\n",
    "\n",
    "        # Optional: Tukey HSD post-hoc if ANOVA is significant and variances are equal\n",
    "        if p_val < alpha and method == \"One-way ANOVA\":\n",
    "            tukey = pairwise_tukeyhsd(endog=df[col], groups=df[group_col], alpha=alpha)\n",
    "            result['tukey_summary'] = tukey_df = pd.DataFrame(data=tukey._results_table.data[1:], columns=tukey._results_table.data[0])\n",
    "        elif p_val < alpha and method == \"Welch's ANOVA\":\n",
    "            # Games-Howell post-hoc from pingouin\n",
    "            posthoc = pg.pairwise_gameshowell(dv=col, between=group_col, data=df[[group_col, col]].dropna())\n",
    "            result['gameshowell_summary'] = posthoc\n",
    "\n",
    "        results.append(result)\n",
    "\n",
    "    return results"
   ]
  },
  {
   "cell_type": "code",
   "execution_count": null,
   "id": "2959dc73",
   "metadata": {},
   "outputs": [],
   "source": [
    "df = pd.read_csv(\"/dementia_prediction/data_filtered.csv)"
   ]
  },
  {
   "cell_type": "code",
   "execution_count": null,
   "id": "0f9d64cd",
   "metadata": {},
   "outputs": [],
   "source": [
    "analyze_groups(df)"
   ]
  }
 ],
 "metadata": {
  "kernelspec": {
   "display_name": "Python 3 (ipykernel)",
   "language": "python",
   "name": "python3"
  },
  "language_info": {
   "codemirror_mode": {
    "name": "ipython",
    "version": 3
   },
   "file_extension": ".py",
   "mimetype": "text/x-python",
   "name": "python",
   "nbconvert_exporter": "python",
   "pygments_lexer": "ipython3",
   "version": "3.9.10"
  }
 },
 "nbformat": 4,
 "nbformat_minor": 5
}
