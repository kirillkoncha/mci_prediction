{
 "cells": [
  {
   "cell_type": "code",
   "execution_count": 2,
   "metadata": {},
   "outputs": [],
   "source": [
    "from nltk.corpus import stopwords\n",
    "from nltk.tokenize import word_tokenize\n",
    " \n",
    "stop_words = set(stopwords.words('english'))"
   ]
  },
  {
   "cell_type": "code",
   "execution_count": 3,
   "metadata": {
    "colab": {
     "base_uri": "https://localhost:8080/"
    },
    "id": "pQXKlctI8UYv",
    "outputId": "2582d890-acf8-46a1-f031-df2887ccd7f8"
   },
   "outputs": [
    {
     "name": "stdout",
     "output_type": "stream",
     "text": [
      "\n",
      "### MCI vs. AD ###\n",
      "\n",
      "\n",
      "Model: Random Forest\n",
      "F1-Macro: 0.4614 ± 0.0178\n",
      "\n",
      "Model: SVM\n",
      "F1-Macro: 0.6763 ± 0.0769\n",
      "\n",
      "Model: Logistic Regression\n",
      "F1-Macro: 0.6734 ± 0.1016\n",
      "\n",
      "### MCI vs. Control ###\n",
      "\n",
      "\n",
      "Model: Random Forest\n",
      "F1-Macro: 0.4588 ± 0.0148\n",
      "\n",
      "Model: SVM\n",
      "F1-Macro: 0.5398 ± 0.1314\n",
      "\n",
      "Model: Logistic Regression\n",
      "F1-Macro: 0.5198 ± 0.1007\n",
      "\n",
      "### MCI vs. AD vs. Control ###\n",
      "\n",
      "\n",
      "Model: Random Forest\n",
      "F1-Macro: 0.5141 ± 0.0294\n",
      "\n",
      "Model: SVM\n",
      "F1-Macro: 0.5606 ± 0.0502\n",
      "\n",
      "Model: Logistic Regression\n",
      "F1-Macro: 0.5658 ± 0.0665\n"
     ]
    }
   ],
   "source": [
    "import pandas as pd\n",
    "import numpy as np\n",
    "import matplotlib.pyplot as plt\n",
    "import seaborn as sns\n",
    "from sklearn.model_selection import KFold, cross_val_score, cross_val_predict\n",
    "from sklearn.metrics import classification_report\n",
    "from sklearn.feature_extraction.text import TfidfVectorizer\n",
    "from sklearn.ensemble import RandomForestClassifier\n",
    "from sklearn.svm import SVC\n",
    "from sklearn.linear_model import LogisticRegression\n",
    "from sklearn.pipeline import Pipeline\n",
    "from sklearn.metrics import make_scorer, f1_score\n",
    "from sklearn.preprocessing import LabelEncoder\n",
    "\n",
    "df = pd.read_csv(\"/Users/kirillkonca/Documents/dementia_prediction/data.csv\")\n",
    "\n",
    "tasks = {\n",
    "    \"MCI vs. AD\": df[df['diagnosis'].isin(['MCI', 'AD'])],\n",
    "    \"MCI vs. Control\": df[df['diagnosis'].isin(['MCI', 'Control'])],\n",
    "    \"MCI vs. AD vs. Control\": df\n",
    "}\n",
    "\n",
    "models = {\n",
    "    \"Random Forest\": RandomForestClassifier(n_estimators=100, random_state=42, class_weight='balanced'),\n",
    "    \"SVM\": SVC(kernel='sigmoid', random_state=42, class_weight='balanced'),\n",
    "    \"Logistic Regression\": LogisticRegression(max_iter=1000, random_state=42, class_weight='balanced')\n",
    "}\n",
    "\n",
    "kf = KFold(n_splits=10, shuffle=True, random_state=42)\n",
    "\n",
    "f1_scorer = make_scorer(f1_score, average=\"macro\")\n",
    "\n",
    "results = []\n",
    "\n",
    "for task_name, task_df in tasks.items():\n",
    "    print(f\"\\n### {task_name} ###\\n\")\n",
    "    X = task_df['speech']\n",
    "    y = LabelEncoder().fit_transform(task_df['diagnosis'])\n",
    "\n",
    "    for model_name, model in models.items():\n",
    "        print(f\"\\nModel: {model_name}\")\n",
    "        pipeline = Pipeline([\n",
    "            ('tfidf', TfidfVectorizer(ngram_range=(1, 3), max_features=5000, stop_words=stop_words)),\n",
    "            ('clf', model)\n",
    "        ])\n",
    "\n",
    "        scores = cross_val_score(pipeline, X, y, cv=kf, scoring=f1_scorer)\n",
    "\n",
    "        print(f\"F1-Macro: {scores.mean():.4f} ± {scores.std():.4f}\")\n",
    "\n",
    "        results.append({\n",
    "            \"Task\": task_name,\n",
    "            \"Model\": model_name,\n",
    "            \"Mean F1 Macro\": scores.mean(),\n",
    "            \"Std F1\": scores.std(),\n",
    "        }\n",
    "        )"
   ]
  },
  {
   "cell_type": "code",
   "execution_count": 12,
   "metadata": {
    "colab": {
     "base_uri": "https://localhost:8080/",
     "height": 688
    },
    "id": "l0ZwS7poDJVv",
    "outputId": "aabacd60-b3e5-4998-d8b3-ebdf0b9550a1"
   },
   "outputs": [
    {
     "data": {
      "image/png": "[encoded data removed]",
      "text/plain": [
       "<Figure size 720x432 with 1 Axes>"
      ]
     },
     "metadata": {
      "needs_background": "light"
     },
     "output_type": "display_data"
    }
   ],
   "source": [
    "results_df = pd.DataFrame(results)\n",
    "\n",
    "plt.figure(figsize=(10, 6))\n",
    "ax = sns.barplot(\n",
    "    data=results_df,\n",
    "    x=\"Task\",\n",
    "    y=\"Mean F1 Macro\",\n",
    "    hue=\"Model\",\n",
    "    capsize=0.1,\n",
    "    errwidth=1.5\n",
    ")\n",
    "\n",
    "plt.ylim(0, 1)\n",
    "plt.ylabel(\"F1-Macro Score\")\n",
    "plt.xlabel(\"Classification Task\")\n",
    "plt.title(\"Model Performance Across Tasks\")\n",
    "plt.xticks(rotation=15)\n",
    "plt.legend(title=\"Model\")\n",
    "\n",
    "# Add labels to bars\n",
    "for container in ax.containers:\n",
    "    ax.bar_label(container, fmt=\"%.2f\", padding=3)\n",
    "\n",
    "plt.show()"
   ]
  },
  {
   "cell_type": "code",
   "execution_count": 133,
   "metadata": {},
   "outputs": [
    {
     "name": "stdout",
     "output_type": "stream",
     "text": [
      "Best parameters: {'clf__C': 10, 'clf__gamma': 'scale', 'clf__kernel': 'linear'}\n",
      "Best F1-macro score: 0.5490487900289432\n"
     ]
    }
   ],
   "source": [
    "import pandas as pd\n",
    "from sklearn.pipeline import FeatureUnion, Pipeline\n",
    "from sklearn.preprocessing import StandardScaler\n",
    "from sklearn.feature_extraction.text import TfidfVectorizer\n",
    "from sklearn.base import TransformerMixin, BaseEstimator\n",
    "from sklearn.svm import SVC\n",
    "from sklearn.model_selection import GridSearchCV, KFold\n",
    "from sklearn.preprocessing import LabelEncoder\n",
    "\n",
    "class TextSelector(BaseEstimator, TransformerMixin):\n",
    "    def __init__(self, key): self.key = key\n",
    "    def fit(self, X, y=None): return self\n",
    "    def transform(self, X): return X[self.key].values  # Convert to 1D array\n",
    "\n",
    "class NumberSelector(BaseEstimator, TransformerMixin):\n",
    "    def __init__(self, keys): self.keys = keys\n",
    "    def fit(self, X, y=None): return self\n",
    "    def transform(self, X): return X[self.keys]  # Keep multiple numerical columns as DataFrame\n",
    "\n",
    "df = pd.read_csv(\"/Users/kirillkonca/Documents/dementia_prediction/data.csv\")\n",
    "\n",
    "X = df[['speech'] + numerical_features]  # Speech (text) + Multiple numerical features\n",
    "y = LabelEncoder().fit_transform(df['diagnosis'])  # Encode labels\n",
    "\n",
    "feature_union = FeatureUnion([\n",
    "    ('text_features', Pipeline([\n",
    "        ('selector', TextSelector('speech')), \n",
    "        ('tfidf', TfidfVectorizer(ngram_range=(1, 3), max_features=5000))\n",
    "    ])),\n",
    "    ('numerical_features', Pipeline([\n",
    "        ('selector', NumberSelector(numerical_features)), \n",
    "        ('scaler', StandardScaler())  # Scale all numerical features together\n",
    "    ]))\n",
    "])\n",
    "\n",
    "svm_model = SVC(random_state=42, class_weight='balanced')\n",
    "\n",
    "pipeline = Pipeline([\n",
    "    ('features', feature_union),  # Process text and numerical features separately\n",
    "    ('clf', svm_model)  # Classification model\n",
    "])\n",
    "\n",
    "param_grid = {\n",
    "    'clf__C': [0.1, 1, 10],\n",
    "    'clf__kernel': ['linear', 'rbf', 'sigmoid'],\n",
    "    'clf__gamma': ['scale', 'auto']\n",
    "}\n",
    "\n",
    "kf = KFold(n_splits=10, shuffle=True, random_state=42)\n",
    "\n",
    "grid_search = GridSearchCV(pipeline, param_grid, cv=kf, scoring='f1_macro', n_jobs=-1)\n",
    "grid_search.fit(X, y)\n",
    "\n",
    "print(\"Best parameters:\", grid_search.best_params_)\n",
    "print(\"Best F1-macro score:\", grid_search.best_score_)\n"
   ]
  },
  {
   "cell_type": "code",
   "execution_count": null,
   "metadata": {},
   "outputs": [],
   "source": []
  }
 ],
 "metadata": {
  "colab": {
   "provenance": []
  },
  "kernelspec": {
   "display_name": "Python 3 (ipykernel)",
   "language": "python",
   "name": "python3"
  },
  "language_info": {
   "codemirror_mode": {
    "name": "ipython",
    "version": 3
   },
   "file_extension": ".py",
   "mimetype": "text/x-python",
   "name": "python",
   "nbconvert_exporter": "python",
   "pygments_lexer": "ipython3",
   "version": "3.9.10"
  }
 },
 "nbformat": 4,
 "nbformat_minor": 1
}
