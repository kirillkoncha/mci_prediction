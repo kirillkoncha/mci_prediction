{
 "cells": [
  {
   "cell_type": "code",
   "execution_count": 2,
   "metadata": {
    "colab": {
     "base_uri": "https://localhost:8080/"
    },
    "id": "pQXKlctI8UYv",
    "outputId": "2582d890-acf8-46a1-f031-df2887ccd7f8"
   },
   "outputs": [
    {
     "name": "stdout",
     "output_type": "stream",
     "text": [
      "\n",
      "### MCI vs. AD ###\n",
      "\n",
      "\n",
      "Model: Random Forest\n",
      "F1-Macro: 0.4614 ± 0.0178\n",
      "\n",
      "Model: SVM\n",
      "F1-Macro: 0.6675 ± 0.1445\n",
      "\n",
      "Model: Logistic Regression\n",
      "F1-Macro: 0.7323 ± 0.1278\n",
      "\n",
      "### MCI vs. Control ###\n",
      "\n",
      "\n",
      "Model: Random Forest\n",
      "F1-Macro: 0.4598 ± 0.0153\n",
      "\n",
      "Model: SVM\n",
      "F1-Macro: 0.4905 ± 0.0894\n",
      "\n",
      "Model: Logistic Regression\n",
      "F1-Macro: 0.4885 ± 0.0903\n",
      "\n",
      "### MCI vs. AD vs. Control ###\n",
      "\n",
      "\n",
      "Model: Random Forest\n",
      "F1-Macro: 0.5220 ± 0.0280\n",
      "\n",
      "Model: SVM\n",
      "F1-Macro: 0.5483 ± 0.0483\n",
      "\n",
      "Model: Logistic Regression\n",
      "F1-Macro: 0.5440 ± 0.0563\n"
     ]
    }
   ],
   "source": [
    "import pandas as pd\n",
    "import numpy as np\n",
    "import matplotlib.pyplot as plt\n",
    "import seaborn as sns\n",
    "from sklearn.model_selection import KFold, cross_val_score, cross_val_predict\n",
    "from sklearn.metrics import classification_report\n",
    "from sklearn.feature_extraction.text import TfidfVectorizer\n",
    "from sklearn.ensemble import RandomForestClassifier\n",
    "from sklearn.svm import SVC\n",
    "from sklearn.linear_model import LogisticRegression\n",
    "from sklearn.pipeline import Pipeline\n",
    "from sklearn.metrics import make_scorer, f1_score\n",
    "from sklearn.preprocessing import LabelEncoder\n",
    "\n",
    "df = pd.read_csv(\"/Users/kirillkonca/Documents/dementia_prediction/data.csv\")\n",
    "\n",
    "tasks = {\n",
    "    \"MCI vs. AD\": df[df['diagnosis'].isin(['MCI', 'AD'])],\n",
    "    \"MCI vs. Control\": df[df['diagnosis'].isin(['MCI', 'Control'])],\n",
    "    \"MCI vs. AD vs. Control\": df\n",
    "}\n",
    "\n",
    "models = {\n",
    "    \"Random Forest\": RandomForestClassifier(n_estimators=100, random_state=42, class_weight='balanced'),\n",
    "    \"SVM\": SVC(kernel='linear', random_state=42, class_weight='balanced'),\n",
    "    \"Logistic Regression\": LogisticRegression(max_iter=1000, random_state=42, class_weight='balanced')\n",
    "}\n",
    "\n",
    "kf = KFold(n_splits=10, shuffle=True, random_state=42)\n",
    "\n",
    "f1_scorer = make_scorer(f1_score, average=\"macro\")\n",
    "\n",
    "results = []\n",
    "\n",
    "for task_name, task_df in tasks.items():\n",
    "    print(f\"\\n### {task_name} ###\\n\")\n",
    "    X = task_df['speech']\n",
    "    y = LabelEncoder().fit_transform(task_df['diagnosis'])\n",
    "\n",
    "    for model_name, model in models.items():\n",
    "        print(f\"\\nModel: {model_name}\")\n",
    "        pipeline = Pipeline([\n",
    "            ('tfidf', TfidfVectorizer(ngram_range=(1, 3), max_features=5000)),\n",
    "            ('clf', model)\n",
    "        ])\n",
    "\n",
    "        scores = cross_val_score(pipeline, X, y, cv=kf, scoring=f1_scorer)\n",
    "\n",
    "        print(f\"F1-Macro: {scores.mean():.4f} ± {scores.std():.4f}\")\n",
    "\n",
    "        results.append({\n",
    "            \"Task\": task_name,\n",
    "            \"Model\": model_name,\n",
    "            \"Mean F1 Macro\": scores.mean(),\n",
    "            \"Std F1\": scores.std(),\n",
    "        }\n",
    "        )"
   ]
  },
  {
   "cell_type": "code",
   "execution_count": 4,
   "metadata": {
    "colab": {
     "base_uri": "https://localhost:8080/",
     "height": 688
    },
    "id": "l0ZwS7poDJVv",
    "outputId": "aabacd60-b3e5-4998-d8b3-ebdf0b9550a1"
   },
   "outputs": [
    {
     "data": {
      "image/png": "[encoded data removed]",
      "text/plain": [
       "<Figure size 720x432 with 1 Axes>"
      ]
     },
     "metadata": {
      "needs_background": "light"
     },
     "output_type": "display_data"
    }
   ],
   "source": [
    "results_df = pd.DataFrame(results)\n",
    "\n",
    "plt.figure(figsize=(10, 6))\n",
    "ax = sns.barplot(\n",
    "    data=results_df,\n",
    "    x=\"Task\",\n",
    "    y=\"Mean F1 Macro\",\n",
    "    hue=\"Model\",\n",
    "    capsize=0.1,\n",
    "    errwidth=1.5\n",
    ")\n",
    "\n",
    "plt.ylim(0, 1)\n",
    "plt.ylabel(\"F1-Macro Score\")\n",
    "plt.xlabel(\"Classification Task\")\n",
    "plt.title(\"Model Performance Across Tasks\")\n",
    "plt.xticks(rotation=15)\n",
    "plt.legend(title=\"Model\")\n",
    "plt.show()"
   ]
  },
  {
   "cell_type": "code",
   "execution_count": null,
   "metadata": {},
   "outputs": [],
   "source": []
  }
 ],
 "metadata": {
  "colab": {
   "provenance": []
  },
  "kernelspec": {
   "display_name": "Python 3 (ipykernel)",
   "language": "python",
   "name": "python3"
  },
  "language_info": {
   "codemirror_mode": {
    "name": "ipython",
    "version": 3
   },
   "file_extension": ".py",
   "mimetype": "text/x-python",
   "name": "python",
   "nbconvert_exporter": "python",
   "pygments_lexer": "ipython3",
   "version": "3.9.10"
  }
 },
 "nbformat": 4,
 "nbformat_minor": 1
}
